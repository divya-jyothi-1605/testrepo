{
 "cells": [
  {
   "cell_type": "code",
   "execution_count": 1,
   "id": "6d3e847c",
   "metadata": {},
   "outputs": [
    {
     "name": "stdout",
     "output_type": "stream",
     "text": [
      "30\n",
      "10\n",
      "2.0\n",
      "200\n"
     ]
    }
   ],
   "source": [
    "a=20\n",
    "b=10\n",
    "print(a+b)\n",
    "print(a-b)\n",
    "print(a/b)\n",
    "print(a*b)"
   ]
  },
  {
   "cell_type": "code",
   "execution_count": 2,
   "id": "fe00d58c",
   "metadata": {},
   "outputs": [
    {
     "name": "stdout",
     "output_type": "stream",
     "text": [
      "17\n"
     ]
    }
   ],
   "source": [
    "result = (3*4)+5\n",
    "print(result)"
   ]
  },
  {
   "cell_type": "code",
   "execution_count": 4,
   "id": "3db10fc2",
   "metadata": {},
   "outputs": [
    {
     "name": "stdout",
     "output_type": "stream",
     "text": [
      "200 minutes is equal to 3.3333333333333335 hourrs\n"
     ]
    }
   ],
   "source": [
    "minutes = 200\n",
    "hours= minutes/60\n",
    "print(f\"{minutes} minutes is equal to {hours} hourrs\")"
   ]
  },
  {
   "cell_type": "markdown",
   "id": "3aba0319",
   "metadata": {},
   "source": [
    "objectives\n",
    "Explore and understand the importance of datascience programming languages\n",
    "learn about common datascience libaries and tools used in python\n",
    "understand basic arithmetic expressions and operations in programming\n",
    "perform multiplication and addition of numbers using python\n",
    "covert minutes to hours and understand basic time conversion in python"
   ]
  },
  {
   "cell_type": "markdown",
   "id": "7a100c13",
   "metadata": {},
   "source": [
    "## AUTHOR details\n",
    "\n",
    "G DIVYA JYOTHI"
   ]
  },
  {
   "cell_type": "markdown",
   "id": "5e072cfb",
   "metadata": {},
   "source": [
    "## AUTHOR details\n"
   ]
  },
  {
   "cell_type": "markdown",
   "id": "9e6c457d",
   "metadata": {},
   "source": [
    "## G DIVYA JYOTHI"
   ]
  },
  {
   "cell_type": "code",
   "execution_count": null,
   "id": "062a9cee",
   "metadata": {},
   "outputs": [],
   "source": []
  }
 ],
 "metadata": {
  "kernelspec": {
   "display_name": "Python 3 (ipykernel)",
   "language": "python",
   "name": "python3"
  },
  "language_info": {
   "codemirror_mode": {
    "name": "ipython",
    "version": 3
   },
   "file_extension": ".py",
   "mimetype": "text/x-python",
   "name": "python",
   "nbconvert_exporter": "python",
   "pygments_lexer": "ipython3",
   "version": "3.9.13"
  }
 },
 "nbformat": 4,
 "nbformat_minor": 5
}
